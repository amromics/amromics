{
 "cells": [
  {
   "cell_type": "markdown",
   "metadata": {
    "origin_pos": 0
   },
   "source": [
    "# Bacterial genomics analysis - a primer\n",
    "\n",
    "Prepared by Minh Duc Cao at AMRomics. Copyright reserved!\n",
    "\n",
    "\n",
    "## Introduction\n",
    "\n",
    "\n"
   ]
  },
  {
   "cell_type": "code",
   "execution_count": 1,
   "metadata": {
    "origin_pos": 3,
    "tab": [
     "tensorflow"
    ]
   },
   "outputs": [],
   "source": [
    "# Import neccessary packages\n",
    "from __future__ import print_function, division\n",
    "%matplotlib inline\n",
    "import matplotlib.pylab as plt\n",
    "import os, sys\n",
    "import numpy as np\n",
    "import pandas as pd\n",
    "# import os, shutil, glob\n",
    "# import urllib\n",
    "# import wget\n",
    "# import subprocess\n",
    "import logging\n",
    "from ete3 import NCBITaxa\n",
    "ncbi = NCBITaxa()\n",
    "from collections import OrderedDict, Counter\n",
    "import time\n",
    "\n",
    "logging.basicConfig(level=logging.DEBUG,\n",
    "                    format='%(asctime)s [%(name)s] %(levelname)s : %(message)s')\n",
    "logger = logging.getLogger(__name__)"
   ]
  },
  {
   "cell_type": "markdown",
   "metadata": {
    "origin_pos": 4
   },
   "source": [
    "## Introduction\n",
    "\n",
    "This tutorial will walk through the decoding of bacteria genomes using data from sequencing technology. In the process, it also highlights the current issues and alludes to how genome graph might help solving.\n",
    "\n",
    "## Data\n",
    "This this tutorial, we will look at the genome of a *Klebsiella quasipneumoniae* K6 strain that was isolated from the urine of a hopitalized patient in the US in 1994. The isolate was found to be resistant to a broad spectrum of betalactams antibiotics, including those are often used as last resort to treat infections. It is catalogued\n",
    "by ATCC under accession number  [ATCC 700603](https://www.atcc.org/Products/All/700603.aspx).\n",
    "\n",
    "The genome of the isolate was sequenced in high quality in 2016 [1] The complete genome was deposited to [genbank](https://www.ncbi.nlm.nih.gov/assembly/GCF_001596075.2/) and to refseq database under accession [GCF_001596075](https://ftp.ncbi.nlm.nih.gov/genomes/all/GCF/001/596/075/GCF_001596075.2_ASM159607v2/).\n",
    "Let download the genome for examination!"
   ]
  },
  {
   "cell_type": "code",
   "execution_count": 2,
   "metadata": {},
   "outputs": [
    {
     "name": "stdout",
     "output_type": "stream",
     "text": [
      "Genome downloaded\n"
     ]
    }
   ],
   "source": [
    "%%bash\n",
    "mkdir -p data/\n",
    "\n",
    "if test -f data/Kp_K6.fna; then\n",
    "    echo \"Genome downloaded\"\n",
    "else\n",
    "    wget -O - https://ftp.ncbi.nlm.nih.gov/genomes/all/GCF/001/596/075/GCF_001596075.2_ASM159607v2/GCF_001596075.2_ASM159607v2_genomic.fna.gz | gunzip -c >  data/Kp_K6.fna    \n",
    "fi"
   ]
  },
  {
   "cell_type": "markdown",
   "metadata": {},
   "source": [
    "We will find that the genome contains three circular sequences: a chromosome of size 5.3Mb and two plasmids with sizes 152Kb and 77Kb respectively. Resistant genes were found on both the chromosome and the plasmids.\n",
    "The detailed annotation of the genome can be found on gff or gbff files from the [refseq directory](https://ftp.ncbi.nlm.nih.gov/genomes/all/GCF/001/596/075/GCF_001596075.2_ASM159607v2/). \n",
    "\n",
    "To compare the genome of this strain with another, we download the complete genome of another *K. quasipneumoniae* strain, such as [GCF_003146635](https://ftp.ncbi.nlm.nih.gov/genomes/all/GCF/003/146/635/GCF_003146635.1_ASM314663v1/). We then use a tool called [mummer](https://mummer4.github.io/tutorial/tutorial.html) to perform whole genome alignment of the two genomes. There are faster tools today such as [minimap2](https://github.com/lh3/minimap2) could also be useful.\n"
   ]
  },
  {
   "cell_type": "code",
   "execution_count": 3,
   "metadata": {},
   "outputs": [
    {
     "name": "stdout",
     "output_type": "stream",
     "text": [
      "Genome downloaded\n"
     ]
    }
   ],
   "source": [
    "%%bash\n",
    "if test -f data/Kp_CAV2018.fna; then\n",
    "    echo \"Genome downloaded\"\n",
    "else\n",
    "    wget -O - https://ftp.ncbi.nlm.nih.gov/genomes/all/GCF/003/146/635/GCF_003146635.1_ASM314663v1/GCF_003146635.1_ASM314663v1_genomic.fna.gz | gunzip -c >  data/Kp_CAV2018.fna\n",
    "fi"
   ]
  },
  {
   "cell_type": "code",
   "execution_count": 4,
   "metadata": {},
   "outputs": [
    {
     "name": "stderr",
     "output_type": "stream",
     "text": [
      "1: PREPARING DATA\n",
      "2,3: RUNNING mummer AND CREATING CLUSTERS\n",
      "# reading input file \"data/alignments.ntref\" of length 6143636\n",
      "# construct suffix tree for sequence of length 6143636\n",
      "# (maximum reference length is 2305843009213693948)\n",
      "# (maximum query length is 18446744073709551615)\n",
      "# process 61436 characters per dot\n",
      "#....................................................................................................\n",
      "# CONSTRUCTIONTIME /misc/usr/sw/anaconda/Anaconda3-2020.02/envs/amromics/opt/mummer-3.23/mummer data/alignments.ntref 2.81\n",
      "# reading input file \"/misc/workspace/amromics/bifx/ipynb/data/Kp_K6.fna\" of length 5513864\n",
      "# matching query-file \"/misc/workspace/amromics/bifx/ipynb/data/Kp_K6.fna\"\n",
      "# against subject-file \"data/alignments.ntref\"\n",
      "# COMPLETETIME /misc/usr/sw/anaconda/Anaconda3-2020.02/envs/amromics/opt/mummer-3.23/mummer data/alignments.ntref 8.35\n",
      "# SPACE /misc/usr/sw/anaconda/Anaconda3-2020.02/envs/amromics/opt/mummer-3.23/mummer data/alignments.ntref 11.28\n",
      "4: FINISHING DATA\n"
     ]
    }
   ],
   "source": [
    "%%bash\n",
    "nucmer -p data/alignments data/Kp_CAV2018.fna data/Kp_K6.fna\n",
    "show-coords data/alignments.delta > data/mcoords.txt"
   ]
  },
  {
   "cell_type": "markdown",
   "metadata": {},
   "source": [
    "The alignment is saved to file `data/mcords.txt`, and once you are familiar with the format can examine which regions matched to which regions of the two genomes. You can also run the following command line to interactively view the alignment. Note, this needs to be from the console with x11 to render the visualisation \n",
    "\n",
    "```bash\n",
    "mummerplot --x11 data/alignment_viz data/alignments.delta\n",
    "```\n",
    "You should see a dotplot showing corresponding regions of the two genomes similar to the below.\n",
    "\n",
    "<img src=\"data/alignment_viz.png\" width=400  />\n",
    "\n",
    "Because of the large size of the genomes, the dotplot is in low resolution. If you zoom in into a region in the middle of the plot around position (2000000, 2500000), or rerun the above command with added argument `-x [1800000:2700000] -y [2500000:3400000]`, you can see a re-arrangement of the two genomes.\n",
    "\n",
    "<img src=\"data/alignment_viz_zoom.png\" width=300  />\n",
    "\n",
    "One can run [Mauve](http://darlinglab.org/mauve/mauve.html) for more meaningful visualization but Mauve is poorly supported and is not easy to get installed. I ran the analysis with Mauve and made a screenshot of the alignment below. As can be seen, there is a genome re-arrangement where in the reference genome (CAV2018), the green region lies after the yellow region, but jumps to between the red and the yellow regions on the K6 genome.\n",
    "\n",
    "<img src=\"data/alignment_mauve.png\" width=100%  />\n"
   ]
  },
  {
   "cell_type": "markdown",
   "metadata": {},
   "source": [
    "## The plastiscity of bacterial genomes\n",
    "\n",
    "Bacteria, especially gram negative such as *K. pneumoniae* are known for highly.\n",
    "\n",
    "Let's look at the twenty  complete *K. pneumoniae* genomes downloaded from refseq:"
   ]
  },
  {
   "cell_type": "code",
   "execution_count": 36,
   "metadata": {},
   "outputs": [],
   "source": [
    "from io import StringIO\n",
    "\n",
    "kp_samples_text = StringIO(\"\"\"\n",
    "assembly_accession,biosample,infraspecific_name,seq_rel_date,asm_name,ftp_path\n",
    "GCF_000009885.1,SAMD00060934,strain=NTUH-K2044,2005/01/05,ASM988v1,ftp://ftp.ncbi.nlm.nih.gov/genomes/all/GCF/000/009/885/GCF_000009885.1_ASM988v1\n",
    "GCF_000016305.1,SAMN02603941,strain=ATCC 700721; MGH 78578,2007/07/05,ASM1630v1,ftp://ftp.ncbi.nlm.nih.gov/genomes/all/GCF/000/016/305/GCF_000016305.1_ASM1630v1\n",
    "GCF_000220485.1,SAMN02603582,strain=KCTC 2242,2011/07/12,ASM22048v1,ftp://ftp.ncbi.nlm.nih.gov/genomes/all/GCF/000/220/485/GCF_000220485.1_ASM22048v1\n",
    "GCF_000240185.1,SAMN02602959,strain=HS11286,2011/12/27,ASM24018v2,ftp://ftp.ncbi.nlm.nih.gov/genomes/all/GCF/000/240/185/GCF_000240185.1_ASM24018v2\n",
    "GCF_000281435.2,SAMN01057614,strain=KPNIH10,2014/05/27,ASM28143v2,ftp://ftp.ncbi.nlm.nih.gov/genomes/all/GCF/000/281/435/GCF_000281435.2_ASM28143v2\n",
    "GCF_000281535.2,SAMN01057611,strain=KPNIH1,2014/07/02,ASM28153v2,ftp://ftp.ncbi.nlm.nih.gov/genomes/all/GCF/000/281/535/GCF_000281535.2_ASM28153v2\n",
    "GCF_000294365.1,SAMN02603641,strain=1084,2012/08/29,ASM29436v1,ftp://ftp.ncbi.nlm.nih.gov/genomes/all/GCF/000/294/365/GCF_000294365.1_ASM29436v1\n",
    "GCF_000364385.3,SAMN02152539,strain=ATCC BAA-2146,2016/01/04,ASM36438v3,ftp://ftp.ncbi.nlm.nih.gov/genomes/all/GCF/000/364/385/GCF_000364385.3_ASM36438v3\n",
    "GCF_000406765.2,SAMN02141993,strain=500_1420,2015/07/23,ASM40676v2,ftp://ftp.ncbi.nlm.nih.gov/genomes/all/GCF/000/406/765/GCF_000406765.2_ASM40676v2\n",
    "GCF_000417085.2,SAMN02142014,strain=UHKPC33,2015/07/23,ASM41708v2,ftp://ftp.ncbi.nlm.nih.gov/genomes/all/GCF/000/417/085/GCF_000417085.2_ASM41708v2\n",
    "GCF_000417225.2,SAMN02141981,strain=DMC1097,2015/07/23,ASM41722v2,ftp://ftp.ncbi.nlm.nih.gov/genomes/all/GCF/000/417/225/GCF_000417225.2_ASM41722v2\n",
    "GCF_000417265.2,SAMN02141972,strain=UHKPC07,2015/07/23,ASM41726v2,ftp://ftp.ncbi.nlm.nih.gov/genomes/all/GCF/000/417/265/GCF_000417265.2_ASM41726v2\n",
    "GCF_000445405.1,SAMN02603607,strain=JM45,2013/08/12,ASM44540v1,ftp://ftp.ncbi.nlm.nih.gov/genomes/all/GCF/000/445/405/GCF_000445405.1_ASM44540v1\n",
    "GCF_000465975.2,SAMN02470575,strain=KP-1,2015/10/22,ASM46597v2,ftp://ftp.ncbi.nlm.nih.gov/genomes/all/GCF/000/465/975/GCF_000465975.2_ASM46597v2\n",
    "GCF_000474015.1,SAMN02603668,strain=CG43,2013/10/18,ASM47401v1,ftp://ftp.ncbi.nlm.nih.gov/genomes/all/GCF/000/474/015/GCF_000474015.1_ASM47401v1\n",
    "GCF_000512165.1,SAMN02641520,strain=Kp13,2013/12/30,ASM51216v1,ftp://ftp.ncbi.nlm.nih.gov/genomes/all/GCF/000/512/165/GCF_000512165.1_ASM51216v1\n",
    "GCF_000597905.1,SAMN03081501,strain=30684/NJST258_2,2014/03/19,ASM59790v1,ftp://ftp.ncbi.nlm.nih.gov/genomes/all/GCF/000/597/905/GCF_000597905.1_ASM59790v1\n",
    "GCF_000598005.1,SAMN03081502,strain=30660/NJST258_1,2014/03/19,ASM59800v1,ftp://ftp.ncbi.nlm.nih.gov/genomes/all/GCF/000/598/005/GCF_000598005.1_ASM59800v1\n",
    "GCF_000695935.1,SAMN02713685,strain=KPNIH27,2014/05/27,ASM69593v1,ftp://ftp.ncbi.nlm.nih.gov/genomes/all/GCF/000/695/935/GCF_000695935.1_ASM69593v1\n",
    "GCF_000714675.1,SAMN02786855,strain=KPNIH24,2014/06/27,ASM71467v1,ftp://ftp.ncbi.nlm.nih.gov/genomes/all/GCF/000/714/675/GCF_000714675.1_ASM71467v1\n",
    "\"\"\")\n",
    "\n",
    "file_paths = []\n",
    "sample_names = []\n",
    "sample_ids = []\n",
    "sample_df = pd.read_csv(kp_samples_text)\n",
    "for _, row in sample_df.iterrows():\n",
    "    name = row['assembly_accession'] + '_' + row['asm_name'] + '_genomic.fna'\n",
    "    file_path = os.path.join(os.getcwd(), 'data', name)\n",
    "    if not os.path.isfile(file_path):        \n",
    "        url = row['ftp_path'] + '/' + name + '.gz'\n",
    "        os.system('wget -O - {} | gunzip -c > {}'.format(url,file_path))\n",
    "    file_paths.append(file_path)\n",
    "    sample_ids.append(row['assembly_accession'] + '_' + row['asm_name'])\n",
    "    sample_names.append(row['infraspecific_name'].split('=')[-1])\n",
    "    \n",
    "    \n",
    "df = pd.DataFrame({\n",
    "    'Sample ID': sample_ids,\n",
    "    'Sample Name': sample_names,\n",
    "    'Input Type': 'asm',\n",
    "    'Files': file_paths,    \n",
    "    'Genus': 'Klebsiella',\n",
    "    'Species': 'pneumoniae',\n",
    "    'Strain': '',\n",
    "    'Gram': '',\n",
    "    'Metadata': ''\n",
    "})\n",
    "df.to_csv('data/kp_list.tsv', sep='\\t')\n",
    "        \n",
    "#        Genus\tSpecies\tStrain\tGram\tMetadata\n",
    "\n",
    "        \n",
    "# Sample ID       Sample Name     Input Type      Files   Genus   Species Strain  Gram    Metadata\n",
    "# 573.12862\tKlebsiella pneumoniae 3288\tasm\t/mnt/data/amromics/samples/Kleb/573.12862.fna\tKlebsiella\tpneumoniae\t\t\tGeographic Location:Houston,USA;Insert Date:8/8/2017;Host Name:Human, Homo sapiens;ampicillin:Resistant;aztreonam:Resistant;ciprofloxacin:Resistant;gentamicin:Susceptible;tetracycline:Susceptible\n",
    "# 573.1286\tKlebsiella pneumoniae 3316\tasm\t/mnt/data/amromics/samples/Kleb/573.12860.fna\tKlebsiella\tpneumoniae\t\t\tGeographic Location:Houston,USA;Insert Date:8/8/2017;Host Name:Human, Homo sapiens;ampicillin:Resistant;aztreonam:Resistant;ciprofloxacin:Resistant;gentamicin:Susceptible;tetracycline:Susceptible\n",
    "# 573.12859\tKlebsiella pneumoniae 3248\tasm\t/mnt/data/amromics/samples/Kleb/573.12859.fna\tKlebsiella\tpneumoniae\t\t\tGeographic Location:Houston,USA;Insert Date:8/8/2017;Host Name:Human, Homo sapiens;ampicillin:Resistant;aztreonam:Resistant;ciprofloxacin:Resistant;gentamicin:Susceptible;tetracycline:Susceptible"
   ]
  },
  {
   "cell_type": "code",
   "execution_count": null,
   "metadata": {},
   "outputs": [],
   "source": [
    "We will use amromics-viz to visualise the pan-genome of these 20 genomes"
   ]
  },
  {
   "cell_type": "code",
   "execution_count": 21,
   "metadata": {},
   "outputs": [
    {
     "data": {
      "text/plain": [
       "'/misc/workspace/amromics/bifx/ipynb'"
      ]
     },
     "execution_count": 21,
     "metadata": {},
     "output_type": "execute_result"
    }
   ],
   "source": []
  },
  {
   "cell_type": "markdown",
   "metadata": {},
   "source": [
    "## References\n",
    "\n",
    "[1] Elliott, A. G., Ganesamoorthy, D., Coin, L., Cooper, M. A., & Cao, M. D. (2016). Complete Genome Sequence of Klebsiella quasipneumoniae subsp. similipneumoniae Strain ATCC 700603. Genome Announcements, 4(3), e00438-16. https://doi.org/10.1128/genomeA.00438-16\n"
   ]
  },
  {
   "cell_type": "code",
   "execution_count": 6,
   "metadata": {},
   "outputs": [
    {
     "name": "stdout",
     "output_type": "stream",
     "text": [
      "alignment_mauve.png  alignment_viz.png\t       alignment_viz_zoom.png\r\n",
      "alignment.paf\t     alignment_viz.ps\t       alignment_viz_zoom.rplot\r\n",
      "alignments.delta     alignment_viz.rplot       Kp_CAV2018.fna\r\n",
      "alignment_viz.fplot  alignment_viz_zoom.fplot  Kp_K6.fna\r\n",
      "alignment_viz.gp     alignment_viz_zoom.gp     mcoords.txt\r\n"
     ]
    }
   ],
   "source": [
    "!ls data"
   ]
  },
  {
   "cell_type": "code",
   "execution_count": 8,
   "metadata": {},
   "outputs": [],
   "source": [
    "import os"
   ]
  },
  {
   "cell_type": "markdown",
   "metadata": {},
   "source": [
    "## The tale of two sequencing technologies\n",
    "\n",
    "The genomes of the "
   ]
  },
  {
   "cell_type": "code",
   "execution_count": 13,
   "metadata": {},
   "outputs": [
    {
     "name": "stdout",
     "output_type": "stream",
     "text": [
      "alignment_mauve.png\r\n",
      "alignment.paf\r\n",
      "alignments.delta\r\n",
      "alignment_viz.fplot\r\n",
      "alignment_viz.gp\r\n",
      "alignment_viz.png\r\n",
      "alignment_viz.ps\r\n",
      "alignment_viz.rplot\r\n",
      "alignment_viz_zoom.fplot\r\n",
      "alignment_viz_zoom.gp\r\n",
      "alignment_viz_zoom.png\r\n",
      "alignment_viz_zoom.rplot\r\n",
      "GCF_000009885.1_ASM988v1_genomic.fna.gz\r\n",
      "GCF_000016305.1_ASM1630v1_genomic.fna.gz\r\n",
      "GCF_000220485.1_ASM22048v1_genomic.fna.gz\r\n",
      "GCF_000240185.1_ASM24018v2_genomic.fna.gz\r\n",
      "GCF_000281435.2_ASM28143v2_genomic.fna.gz\r\n",
      "GCF_000281535.2_ASM28153v2_genomic.fna.gz\r\n",
      "GCF_000294365.1_ASM29436v1_genomic.fna.gz\r\n",
      "GCF_000364385.3_ASM36438v3_genomic.fna.gz\r\n",
      "GCF_000406765.2_ASM40676v2_genomic.fna.gz\r\n",
      "GCF_000417085.2_ASM41708v2_genomic.fna.gz\r\n",
      "GCF_000417225.2_ASM41722v2_genomic.fna.gz\r\n",
      "GCF_000417265.2_ASM41726v2_genomic.fna.gz\r\n",
      "GCF_000445405.1_ASM44540v1_genomic.fna.gz\r\n",
      "GCF_000465975.2_ASM46597v2_genomic.fna.gz\r\n",
      "GCF_000474015.1_ASM47401v1_genomic.fna.gz\r\n",
      "GCF_000512165.1_ASM51216v1_genomic.fna.gz\r\n",
      "GCF_000597905.1_ASM59790v1_genomic.fna.gz\r\n",
      "GCF_000598005.1_ASM59800v1_genomic.fna.gz\r\n",
      "GCF_000695935.1_ASM69593v1_genomic.fna.gz\r\n",
      "GCF_000714675.1_ASM71467v1_genomic.fna.gz\r\n",
      "Kp_CAV2018.fna\r\n",
      "Kp_K6.fna\r\n",
      "mcoords.txt\r\n"
     ]
    }
   ],
   "source": [
    "!ls data"
   ]
  },
  {
   "cell_type": "code",
   "execution_count": 10,
   "metadata": {},
   "outputs": [
    {
     "name": "stdout",
     "output_type": "stream",
     "text": [
      "a_primer_of_bacterial_genomics.ipynb  data  out.eps  Untitled.ipynb\r\n"
     ]
    }
   ],
   "source": [
    "!ls"
   ]
  },
  {
   "cell_type": "code",
   "execution_count": null,
   "metadata": {},
   "outputs": [],
   "source": []
  }
 ],
 "metadata": {
  "kernelspec": {
   "display_name": "Python 3",
   "language": "python",
   "name": "python3"
  },
  "language_info": {
   "codemirror_mode": {
    "name": "ipython",
    "version": 3
   },
   "file_extension": ".py",
   "mimetype": "text/x-python",
   "name": "python",
   "nbconvert_exporter": "python",
   "pygments_lexer": "ipython3",
   "version": "3.6.9"
  }
 },
 "nbformat": 4,
 "nbformat_minor": 4
}
